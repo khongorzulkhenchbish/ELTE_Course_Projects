{
 "cells": [
  {
   "cell_type": "code",
   "execution_count": 2,
   "metadata": {
    "collapsed": false
   },
   "outputs": [
    {
     "name": "stdout",
     "output_type": "stream",
     "text": [
      "test_empty_input (__main__.Test_group_sub_ranges) ... "
     ]
    },
    {
     "name": "stdout",
     "output_type": "stream",
     "text": [
      "ok\n",
      "test_invalid_range (__main__.Test_group_sub_ranges) ... "
     ]
    },
    {
     "name": "stdout",
     "output_type": "stream",
     "text": [
      "ok\n",
      "test_one_valid_range (__main__.Test_group_sub_ranges) ... "
     ]
    },
    {
     "name": "stdout",
     "output_type": "stream",
     "text": [
      "ok\n",
      "test_three_valid_range_with_and_without_valid_product (__main__.Test_group_sub_ranges) ... "
     ]
    },
    {
     "name": "stdout",
     "output_type": "stream",
     "text": [
      "ok\n",
      "test_three_valid_range_without_valid_product (__main__.Test_group_sub_ranges) ... "
     ]
    },
    {
     "name": "stdout",
     "output_type": "stream",
     "text": [
      "ok\n",
      "test_two_valid_range_with_valid_product (__main__.Test_group_sub_ranges) ... "
     ]
    },
    {
     "name": "stdout",
     "output_type": "stream",
     "text": [
      "ok\n",
      "\n",
      "----------------------------------------------------------------------\n",
      "Ran 6 tests in 0.006s\n",
      "\n",
      "OK\n",
      "test_no_range_increase_needed (__main__.Test_design) ... "
     ]
    },
    {
     "name": "stdout",
     "output_type": "stream",
     "text": [
      "ok\n",
      "test_range_increase_needed (__main__.Test_design) ... "
     ]
    },
    {
     "name": "stdout",
     "output_type": "stream",
     "text": [
      "ok\n",
      "\n",
      "----------------------------------------------------------------------\n",
      "Ran 2 tests in 0.002s\n",
      "\n",
      "OK\n"
     ]
    },
    {
     "data": {
      "text/plain": [
       "<unittest.runner.TextTestResult run=2 errors=0 failures=0>"
      ]
     },
     "execution_count": 2,
     "metadata": {
     },
     "output_type": "execute_result"
    }
   ],
   "source": [
    "class Constraint_violated(Exception):\n",
    "    pass\n",
    "\n",
    "def group_sub_ranges(sub_ranges_km, lower_bound_km, upper_bound_km):\n",
    "    if len(sub_ranges_km) == 0:\n",
    "        raise ValueError('sub_ranges_km is empty')\n",
    "    \n",
    "    found = True\n",
    "    while found:\n",
    "        # We will alysws work on sorted list of subranges\n",
    "        sub_ranges_km.sort()\n",
    "        \n",
    "        # Select the shortest subrange\n",
    "        shortest_sub_range_km = sub_ranges_km.pop(0)\n",
    "        for k in range(len(sub_ranges_km) - 1, -1, -1):\n",
    "            # Try to select the largest subrange where the product is still elow the upper bound\n",
    "            if shortest_sub_range_km * sub_ranges_km[k] < upper_bound_km:\n",
    "                # If we have found one, remove the term from the list, and push the product into the list\n",
    "                new_sub_range_km = shortest_sub_range_km * sub_ranges_km.pop(k)\n",
    "                sub_ranges_km.append(new_sub_range_km)\n",
    "                break\n",
    "        else:\n",
    "            # If we have found no suitable term, push back the shortes subrange into the begining of the list\n",
    "            sub_ranges_km.insert(0, shortest_sub_range_km)\n",
    "            found = False\n",
    "    \n",
    "    # Check for constarin violation\n",
    "    for sub_range_km in sub_ranges_km:\n",
    "        if sub_range_km <= lower_bound_km or sub_range_km >= upper_bound_km:\n",
    "            raise Constraint_violated\n",
    "    \n",
    "    return sub_ranges_km\n",
    "\n",
    "speed_of_light_km_p_s = 299792.458\n",
    "\n",
    "def calc_range_from_prf(prf_Hz):\n",
    "    return speed_of_light_km_p_s / (2 * prf_Hz)\n",
    "\n",
    "def calc_prf_from_range(range_km):\n",
    "    return speed_of_light_km_p_s / (2 * range_km)\n",
    "\n",
    "def design(pulse_width_s, upper_bound_Hz, max_range_km):\n",
    "    lower_bound_Hz = 1 / (4 * pulse_width_s)\n",
    "    \n",
    "    # Convert constrains on frequencies into ranges\n",
    "    # a < f < b <=> range(b) < range(f) < range(a)\n",
    "    lower_bound_km = calc_range_from_prf(upper_bound_Hz)\n",
    "    upper_bound_km = calc_range_from_prf(lower_bound_Hz)\n",
    "    \n",
    "    while True:\n",
    "        try:\n",
    "            # Factorize the maximum range (FTA)\n",
    "            sub_ranges_km = list(map(lambda x: x[0] ** x[1], list(factor(max_range_km))))\n",
    "            \n",
    "            # Try to group the subranges together\n",
    "            sub_ranges_km = group_sub_ranges(sub_ranges_km, lower_bound_km, upper_bound_km)\n",
    "            \n",
    "            return list(map(calc_prf_from_range, sub_ranges_km))\n",
    "        except Constraint_violated:\n",
    "            # If we have found no grouping, we increase the range with 1 and start over\n",
    "            max_range_km += 1\n",
    "\n",
    "def calc_apparent_range_from_apparent_delay(apparent_delays_s):\n",
    "    return (speed_of_light_km_p_s * apparent_delays_s) / 2\n",
    "\n",
    "def calc_range_from_apparent_delays(apparent_delays_s, prfs_Hz):\n",
    "    apparent_ranges = list(map(lambda x: Integer(calc_apparent_range_from_apparent_delay(x)), apparent_delays_s))\n",
    "    sub_ranges_km = list(map(lambda x: Integer(calc_range_from_prf(x)), prfs_Hz))\n",
    "    maximum_range_km = prod(sub_ranges_km)\n",
    "    return crt(apparent_ranges, sub_ranges_km) % maximum_range_km\n",
    "\n",
    "import unittest\n",
    "test_runner = unittest.TextTestRunner(stream=sys.stdout, verbosity=2)\n",
    "\n",
    "class Test_group_sub_ranges(unittest.TestCase):\n",
    "    def test_empty_input(self):\n",
    "        with self.assertRaises(ValueError):\n",
    "            group_sub_ranges([], 1, 2)\n",
    "    \n",
    "    def test_one_valid_range(self):\n",
    "        self.assertEqual(group_sub_ranges([2], 1, 3), [2])\n",
    "    \n",
    "    def test_two_valid_range_with_valid_product(self):\n",
    "        self.assertEqual(group_sub_ranges([2, 3], 1, 7), [6])\n",
    "\n",
    "    def test_three_valid_range_with_and_without_valid_product(self):\n",
    "        self.assertEqual(group_sub_ranges([2, 3, 4], 1, 7), [4, 6])\n",
    "\n",
    "    def test_invalid_range(self):\n",
    "        with self.assertRaises(Constraint_violated):\n",
    "            group_sub_ranges([2], 2, 7)\n",
    "\n",
    "        with self.assertRaises(Constraint_violated):\n",
    "            group_sub_ranges([7], 2, 7)\n",
    "\n",
    "        with self.assertRaises(Constraint_violated):\n",
    "            group_sub_ranges([3,7, 4], 2, 7)\n",
    "\n",
    "    def test_three_valid_range_without_valid_product(self):\n",
    "        self.assertEqual(group_sub_ranges([2, 3, 4], 1, 5), [2, 3, 4])\n",
    "\n",
    "test_runner.run(unittest.defaultTestLoader.loadTestsFromTestCase(Test_group_sub_ranges))\n",
    "\n",
    "class Test_design(unittest.TestCase):\n",
    "    def test_no_range_increase_needed(self):\n",
    "        pulse_width_s = 6 / (2*speed_of_light_km_p_s) # range: 6\n",
    "        upper_bound_Hz = speed_of_light_km_p_s / 2 # range: 1\n",
    "        \n",
    "        self.assertEqual(design(pulse_width_s, upper_bound_Hz, 4), list(map(calc_prf_from_range, [4])))\n",
    "\n",
    "    def test_range_increase_needed(self):\n",
    "        pulse_width_s = 6 / (2*speed_of_light_km_p_s) # range: 6\n",
    "        upper_bound_Hz = speed_of_light_km_p_s / 2 # range: 1\n",
    "        \n",
    "        self.assertEqual(design(pulse_width_s, upper_bound_Hz, 7), list(map(calc_prf_from_range, [2, 5])))\n",
    "\n",
    "test_runner.run(unittest.defaultTestLoader.loadTestsFromTestCase(Test_design))"
   ]
  },
  {
   "cell_type": "code",
   "execution_count": 6,
   "metadata": {
    "collapsed": false
   },
   "outputs": [
    {
     "name": "stdout",
     "output_type": "stream",
     "text": [
      "[8, 3, 19]\n"
     ]
    }
   ],
   "source": [
    "print(list(map(lambda x: x[0] ** x[1], list(factor(456)))))"
   ]
  },
  {
   "cell_type": "code",
   "execution_count": 0,
   "metadata": {
    "collapsed": false
   },
   "outputs": [
   ],
   "source": [
   ]
  }
 ],
 "metadata": {
  "kernelspec": {
   "display_name": "SageMath 9.4",
   "language": "sagemath",
   "metadata": {
    "cocalc": {
     "description": "Open-source mathematical software system",
     "priority": 10,
     "url": "https://www.sagemath.org/"
    }
   },
   "name": "sage-9.4",
   "resource_dir": "/ext/jupyter/kernels/sage-9.4"
  },
  "language_info": {
   "codemirror_mode": {
    "name": "ipython",
    "version": 3
   },
   "file_extension": ".py",
   "mimetype": "text/x-python",
   "name": "python",
   "nbconvert_exporter": "python",
   "pygments_lexer": "ipython3",
   "version": "3.7.7"
  }
 },
 "nbformat": 4,
 "nbformat_minor": 4
}